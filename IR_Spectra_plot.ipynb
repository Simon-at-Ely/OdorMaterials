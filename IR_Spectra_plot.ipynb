{
 "cells": [
  {
   "cell_type": "code",
   "execution_count": 1,
   "metadata": {
    "collapsed": false
   },
   "outputs": [
    {
     "data": {
      "text/plain": [
       "<matplotlib.legend.Legend at 0x7f64457f1c10>"
      ]
     },
     "execution_count": 1,
     "metadata": {},
     "output_type": "execute_result"
    }
   ],
   "source": [
    "#load python packages\n",
    "#%pylab inline\n",
    "import pandas as pd\n",
    "import matplotlib.pyplot as plt\n",
    "%matplotlib qt4\n",
    "\n",
    "#load data\n",
    "df1 = pd.read_csv('76-22-2IR.dat', delim_whitespace=True)\n",
    "df2 = pd.read_csv('79-92-5IR.dat', delim_whitespace=True)\n",
    "df3 = pd.read_csv('89-83-8IR.dat', delim_whitespace=True)\n",
    "\n",
    "#plot IR Spectra\n",
    "plt.plot(df1['Vibrations'], df1['Intensities'], df2['Vibrations'], df2['Intensities'], df3['Vibrations'], df3['Intensities'])\n",
    "plt.xlabel('Frequency (1/cm)')\n",
    "plt.ylabel('Intensity(km/mol)')\n",
    "plt.title('IR Spectra')\n",
    "plt.legend(['Camphor', 'Camphene', 'Thymol'], loc='upper right')"
   ]
  },
  {
   "cell_type": "code",
   "execution_count": 1,
   "metadata": {
    "collapsed": false
   },
   "outputs": [
    {
     "data": {
      "text/plain": [
       "<matplotlib.legend.Legend at 0x7f1b5c43bc10>"
      ]
     },
     "execution_count": 1,
     "metadata": {},
     "output_type": "execute_result"
    }
   ],
   "source": [
    "#load python packages\n",
    "#%pylab inline\n",
    "import pandas as pd\n",
    "import matplotlib.pyplot as plt\n",
    "%matplotlib qt4\n",
    "\n",
    "#load data\n",
    "df1 = pd.read_csv('76-22-2XYV50.dat', delim_whitespace=True)\n",
    "df2 = pd.read_csv('79-92-5XYV50.dat', delim_whitespace=True)\n",
    "df3 = pd.read_csv('89-83-8XYV50.dat', delim_whitespace=True)\n",
    "\n",
    "#plot IR Spectra\n",
    "plt.plot(df1['Vibrations'], df1['Intensities'], df2['Vibrations'], df2['Intensities'], df3['Vibrations'], df3['Intensities'])\n",
    "plt.xlabel('Frequency (1/cm)')\n",
    "plt.ylabel('Intensity(km/mol)')\n",
    "plt.title('IR Spectra Values Peak Width 50')\n",
    "plt.legend(['Camphor', 'Camphene', 'Thymol'], loc='upper right')"
   ]
  },
  {
   "cell_type": "code",
   "execution_count": 2,
   "metadata": {
    "collapsed": false
   },
   "outputs": [
    {
     "data": {
      "text/plain": [
       "<matplotlib.legend.Legend at 0x7f1b694d9110>"
      ]
     },
     "execution_count": 2,
     "metadata": {},
     "output_type": "execute_result"
    }
   ],
   "source": [
    "#load python packages\n",
    "#%pylab inline\n",
    "import pandas as pd\n",
    "import matplotlib.pyplot as plt\n",
    "%matplotlib qt4\n",
    "\n",
    "#load data\n",
    "df1 = pd.read_csv('76-22-2XYP50.dat', delim_whitespace=True)\n",
    "df2 = pd.read_csv('79-92-5XYP50.dat', delim_whitespace=True)\n",
    "df3 = pd.read_csv('89-83-8XYP50.dat', delim_whitespace=True)\n",
    "\n",
    "#plot IR Spectra\n",
    "plt.plot(df1['Vibrations'], df1['Intensities'], df2['Vibrations'], df2['Intensities'], df3['Vibrations'], df3['Intensities'])\n",
    "plt.xlabel('Frequency (1/cm)')\n",
    "plt.ylabel('Intensity(km/mol)')\n",
    "plt.title('IR Spectra Peaks Peak Width 50')\n",
    "plt.legend(['Camphor', 'Camphene', 'Thymol'], loc='upper right')"
   ]
  },
  {
   "cell_type": "code",
   "execution_count": 3,
   "metadata": {
    "collapsed": false
   },
   "outputs": [
    {
     "data": {
      "text/plain": [
       "<matplotlib.legend.Legend at 0x7f1b671e9c10>"
      ]
     },
     "execution_count": 3,
     "metadata": {},
     "output_type": "execute_result"
    }
   ],
   "source": [
    "#load python packages\n",
    "#%pylab inline\n",
    "import pandas as pd\n",
    "import matplotlib.pyplot as plt\n",
    "%matplotlib qt4\n",
    "\n",
    "#load data\n",
    "df1 = pd.read_csv('76-22-2XYV200.dat', delim_whitespace=True)\n",
    "df2 = pd.read_csv('79-92-5XYV200.dat', delim_whitespace=True)\n",
    "df3 = pd.read_csv('89-83-8XYV200.dat', delim_whitespace=True)\n",
    "\n",
    "#plot IR Spectra\n",
    "plt.plot(df1['Vibrations'], df1['Intensities'], df2['Vibrations'], df2['Intensities'], df3['Vibrations'], df3['Intensities'])\n",
    "plt.xlabel('Frequency (1/cm)')\n",
    "plt.ylabel('Intensity(km/mol)')\n",
    "plt.title('IR Spectra Values Peak Width 200')\n",
    "plt.legend(['Camphor', 'Camphene', 'Thymol'], loc='upper right')"
   ]
  },
  {
   "cell_type": "code",
   "execution_count": 1,
   "metadata": {
    "collapsed": false
   },
   "outputs": [
    {
     "data": {
      "text/plain": [
       "<matplotlib.legend.Legend at 0x7f5550604c10>"
      ]
     },
     "execution_count": 1,
     "metadata": {},
     "output_type": "execute_result"
    }
   ],
   "source": [
    "#load python packages\n",
    "#%pylab inline\n",
    "import pandas as pd\n",
    "import matplotlib.pyplot as plt\n",
    "%matplotlib qt4\n",
    "\n",
    "#load data\n",
    "df1 = pd.read_csv('76-22-2XYP200.dat', delim_whitespace=True)\n",
    "df2 = pd.read_csv('79-92-5XYP200.dat', delim_whitespace=True)\n",
    "df3 = pd.read_csv('89-83-8XYP200.dat', delim_whitespace=True)\n",
    "\n",
    "#plot IR Spectra\n",
    "plt.plot(df1['Vibrations'], df1['Intensities'], df2['Vibrations'], df2['Intensities'], df3['Vibrations'], df3['Intensities'])\n",
    "plt.xlabel('Frequency (1/cm)')\n",
    "plt.ylabel('Intensity(km/mol)')\n",
    "plt.title('IR Spectra Peaks Peak Width 200')\n",
    "plt.legend(['Camphor', 'Camphene', 'Thymol'], loc='upper right')"
   ]
  },
  {
   "cell_type": "code",
   "execution_count": 25,
   "metadata": {
    "collapsed": false
   },
   "outputs": [],
   "source": [
    "#load python packages\n",
    "#%pylab inline\n",
    "import pandas as pd\n",
    "import matplotlib.pyplot as plt\n",
    "%matplotlib qt4\n",
    "\n",
    "#load data\n",
    "df1 = pd.read_csv('76-22-2XYP50.dat', delim_whitespace=True)\n",
    "df2 = pd.read_csv('79-92-5XYP50.dat', delim_whitespace=True)\n",
    "#df3 = pd.read_csv('89-83-8XYP50.dat', delim_whitespace=True)\n",
    "\n",
    "#plot IR Spectra\n",
    "fig, ax = plt.subplots()\n",
    "ax.bar(df1['Vibrations'], df1['Intensities'], width=2, color='b', edgecolor='b', align='center' )\n",
    "ax.bar(df2['Vibrations'], df2['Intensities'], width=2, color='g', edgecolor='g', align='center')\n",
    "ax.bar(df3['Vibrations'], df3['Intensities'], width=2, color='r', edgecolor='r', align='center')\n",
    "plt.xlabel('Frequency (1/cm)')\n",
    "plt.ylabel('Intensity(km/mol)')\n",
    "plt.title('IR Spectra Peaks')\n",
    "plt.legend(['Camphor', 'Camphene', 'Thymol'], loc='upper right')\n",
    "plt.show()"
   ]
  },
  {
   "cell_type": "code",
   "execution_count": 13,
   "metadata": {
    "collapsed": false
   },
   "outputs": [],
   "source": [
    "#load python packages\n",
    "#%pylab inline\n",
    "import pandas as pd\n",
    "import numpy as np\n",
    "import matplotlib.pyplot as plt\n",
    "%matplotlib qt4\n",
    "\n",
    "df1 = pd.read_csv('76-22-2IR.dat', delim_whitespace=True)\n",
    "df2 = pd.read_csv('79-92-5IR.dat', delim_whitespace=True)\n",
    "df3 = pd.read_csv('89-83-8IR.dat', delim_whitespace=True)\n",
    "\n",
    "freq_bins = np.arange(0,4050,50)\n",
    "midpoints = np.arange(25,4000,50)\n",
    "\n",
    "binned1 = pd.cut(df1.Vibrations, freq_bins)\n",
    "df1_bin_50 = pd.value_counts(binned1).reindex(binned1.cat.categories)\n",
    "\n",
    "binned2 = pd.cut(df2.Vibrations, freq_bins)\n",
    "df2_bin_50 = pd.value_counts(binned2).reindex(binned2.cat.categories)\n",
    "\n",
    "binned3 = pd.cut(df3.Vibrations, freq_bins)\n",
    "df3_bin_50 = pd.value_counts(binned3).reindex(binned3.cat.categories)\n",
    "\n",
    "\n",
    "len(midpoints)\n",
    "\n",
    "#plot IR Spectra\n",
    "fig, ax = plt.subplots()\n",
    "ax.bar(midpoints, df1_bin_50, width=2, color='b', edgecolor='b', align='edge' )\n",
    "ax.bar(midpoints, df2_bin_50, width=2, color='g', edgecolor='g', align='center')\n",
    "ax.bar(midpoints, df3_bin_50, width=-2, color='r', edgecolor='r', align='edge')\n",
    "plt.xlabel('IR Frequency (1/cm)')\n",
    "plt.ylabel('Frequency (n)')\n",
    "plt.title('IR Spectra Peak Counts within 50 1/cm bins')\n",
    "plt.legend(['Camphor', 'Camphene', 'Thymol'], loc='upper right')\n",
    "plt.show()"
   ]
  },
  {
   "cell_type": "code",
   "execution_count": 14,
   "metadata": {
    "collapsed": true
   },
   "outputs": [],
   "source": [
    "#load python packages\n",
    "#%pylab inline\n",
    "import pandas as pd\n",
    "import numpy as np\n",
    "import matplotlib.pyplot as plt\n",
    "%matplotlib qt4\n",
    "\n",
    "df1 = pd.read_csv('76-22-2IR.dat', delim_whitespace=True)\n",
    "df2 = pd.read_csv('79-92-5IR.dat', delim_whitespace=True)\n",
    "df3 = pd.read_csv('89-83-8IR.dat', delim_whitespace=True)\n",
    "\n",
    "freq_bins = np.arange(0,4200,200)\n",
    "midpoints = np.arange(100,4000,200)\n",
    "\n",
    "binned1 = pd.cut(df1.Vibrations, freq_bins)\n",
    "df1_bin_200 = pd.value_counts(binned1).reindex(binned1.cat.categories)\n",
    "\n",
    "binned2 = pd.cut(df2.Vibrations, freq_bins)\n",
    "df2_bin_200 = pd.value_counts(binned2).reindex(binned2.cat.categories)\n",
    "\n",
    "binned3 = pd.cut(df3.Vibrations, freq_bins)\n",
    "df3_bin_200 = pd.value_counts(binned3).reindex(binned3.cat.categories)\n",
    "\n",
    "\n",
    "len(midpoints)\n",
    "\n",
    "#plot IR Spectra\n",
    "fig, ax = plt.subplots()\n",
    "ax.bar(midpoints, df1_bin_200, width=2, color='b', edgecolor='b', align='edge' )\n",
    "ax.bar(midpoints, df2_bin_200, width=2, color='g', edgecolor='g', align='center')\n",
    "ax.bar(midpoints, df3_bin_200, width=-2, color='r', edgecolor='r', align='edge')\n",
    "plt.xlabel('IR Frequency (1/cm)')\n",
    "plt.ylabel('Frequency (n)')\n",
    "plt.title('IR Spectra Peak Counts within 200 1/cm bins')\n",
    "plt.legend(['Camphor', 'Camphene', 'Thymol'], loc='upper right')\n",
    "plt.show()"
   ]
  },
  {
   "cell_type": "code",
   "execution_count": 7,
   "metadata": {
    "collapsed": false
   },
   "outputs": [],
   "source": [
    "#load python packages\n",
    "#%pylab inline\n",
    "import pandas as pd\n",
    "import numpy as np\n",
    "import matplotlib.pyplot as plt\n",
    "%matplotlib qt4\n",
    "\n",
    "freq_bins = np.arange(0,4200,200)\n",
    "midpoints = np.arange(100,4000,200)\n",
    "\n",
    "df1 = pd.read_csv('76-22-2IR.dat', delim_whitespace=True)\n",
    "df2 = pd.read_csv('79-92-5IR.dat', delim_whitespace=True)\n",
    "df3 = pd.read_csv('89-83-8IR.dat', delim_whitespace=True)\n",
    "\n",
    "df1_m_int_b_200 = df1.groupby(pd.cut(df1.Vibrations, freq_bins))['Intensities'].mean()\n",
    "df2_m_int_b_200 = df2.groupby(pd.cut(df2.Vibrations, freq_bins))['Intensities'].mean()\n",
    "df3_m_int_b_200 = df3.groupby(pd.cut(df3.Vibrations, freq_bins))['Intensities'].mean()\n",
    "\n",
    "#plot IR Spectra\n",
    "fig, ax = plt.subplots()\n",
    "ax.bar(midpoints, df1_m_int_b_200, width=10, color='b', edgecolor='b', align='edge' )\n",
    "ax.bar(midpoints, df2_m_int_b_200, width=10, color='g', edgecolor='g', align='center')\n",
    "ax.bar(midpoints, df3_m_int_b_200, width=-10, color='r', edgecolor='r', align='edge')\n",
    "plt.xlabel('IR Frequency (1/cm)')\n",
    "plt.ylabel('Mean Intensity (Km/mol)')\n",
    "plt.title('IR Spectra Intensity means within 200 1/cm bins')\n",
    "plt.legend(['Camphor', 'Camphene', 'Thymol'], loc='upper right')\n",
    "plt.show()"
   ]
  },
  {
   "cell_type": "code",
   "execution_count": 8,
   "metadata": {
    "collapsed": true
   },
   "outputs": [],
   "source": [
    "#load python packages\n",
    "#%pylab inline\n",
    "import pandas as pd\n",
    "import numpy as np\n",
    "import matplotlib.pyplot as plt\n",
    "%matplotlib qt4\n",
    "\n",
    "freq_bins = np.arange(0,4050,50)\n",
    "midpoints = np.arange(25,4000,50)\n",
    "\n",
    "df1 = pd.read_csv('76-22-2IR.dat', delim_whitespace=True)\n",
    "df2 = pd.read_csv('79-92-5IR.dat', delim_whitespace=True)\n",
    "df3 = pd.read_csv('89-83-8IR.dat', delim_whitespace=True)\n",
    "\n",
    "df1_m_int_b_50 = df1.groupby(pd.cut(df1.Vibrations, freq_bins))['Intensities'].mean()\n",
    "df2_m_int_b_50 = df2.groupby(pd.cut(df2.Vibrations, freq_bins))['Intensities'].mean()\n",
    "df3_m_int_b_50 = df3.groupby(pd.cut(df3.Vibrations, freq_bins))['Intensities'].mean()\n",
    "\n",
    "#plot IR Spectra\n",
    "fig, ax = plt.subplots()\n",
    "ax.bar(midpoints, df1_m_int_b_50, width=10, color='b', edgecolor='b', align='edge' )\n",
    "ax.bar(midpoints, df2_m_int_b_50, width=10, color='g', edgecolor='g', align='center')\n",
    "ax.bar(midpoints, df3_m_int_b_50, width=-10, color='r', edgecolor='r', align='edge')\n",
    "plt.xlabel('IR Frequency (1/cm)')\n",
    "plt.ylabel('Mean Intensity (Km/mol)')\n",
    "plt.title('IR Spectra Intensity means within 50 1/cm bins')\n",
    "plt.legend(['Camphor', 'Camphene', 'Thymol'], loc='upper right')\n",
    "plt.show()"
   ]
  },
  {
   "cell_type": "code",
   "execution_count": null,
   "metadata": {
    "collapsed": true
   },
   "outputs": [],
   "source": []
  }
 ],
 "metadata": {
  "kernelspec": {
   "display_name": "Python 2",
   "language": "python",
   "name": "python2"
  },
  "language_info": {
   "codemirror_mode": {
    "name": "ipython",
    "version": 2
   },
   "file_extension": ".py",
   "mimetype": "text/x-python",
   "name": "python",
   "nbconvert_exporter": "python",
   "pygments_lexer": "ipython2",
   "version": "2.7.13"
  }
 },
 "nbformat": 4,
 "nbformat_minor": 0
}
